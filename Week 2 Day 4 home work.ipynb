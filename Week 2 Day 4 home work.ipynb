{
 "cells": [
  {
   "cell_type": "markdown",
   "id": "2fe4c625",
   "metadata": {},
   "source": [
    "# Exercises"
   ]
  },
  {
   "cell_type": "markdown",
   "id": "467d24a9",
   "metadata": {},
   "source": [
    "### Exercise 1 - Turn the shopping cart program from yesterday into an object-oriented program"
   ]
  },
  {
   "cell_type": "code",
   "execution_count": null,
   "id": "d9e58c84",
   "metadata": {},
   "outputs": [],
   "source": [
    "# Create a class called cart that retains items and has methods to add, remove, and show\n",
    "class Cart():\n",
    "        \n",
    "    def __init__(self, shopping_cart):\n",
    "        self.shopping_cart = {}\n",
    "        \n",
    "        \n",
    "    def start_shopping(self):\n",
    "        while True:\n",
    "            response = input(\"what would you like to do: ADD, REMOVE, SHOW, OR QUIT? \").strip()\n",
    "            if response.lower() == 'add':\n",
    "                self.add()\n",
    "            elif response.lower() == 'remove':\n",
    "                self.remove()\n",
    "            elif response.lower() == 'show':\n",
    "                self.show()\n",
    "            elif response.lower() == 'quit':\n",
    "                break\n",
    "            \n",
    "    def add(self):\n",
    "        item=input(\"What do you want to add?\").strip()\n",
    "        quantity=input(\"How many would you like?\").strip()\n",
    "        self.shopping_cart[item]=quantity\n",
    "        print(self.shopping_cart)\n",
    "    \n",
    "    def remove(self):\n",
    "        response=input(\"what would you like to do: REMOVE ITEM or CHANGE QUANTITY? \").strip()\n",
    "            \n",
    "        if response.lower() == 'remove item':\n",
    "            print(self.shopping_cart)\n",
    "            r_item=input(\"what item would you like to remove?\").strip()\n",
    "            del self.shopping_cart[r_item]\n",
    "           \n",
    "        elif response.lower() == 'change quantity':\n",
    "            print(self.shopping_cart)\n",
    "            r_item=input(\"What item's quanity would you like to change? \").strip()\n",
    "            c_item=input(\"What would you like to change it to? \").strip()\n",
    "            self.shopping_cart[r_item] = c_item\n",
    "    \n",
    "    def show(self):\n",
    "        print(self.shopping_cart)\n",
    "shopper = Cart(\"\")\n",
    "shopper.start_shopping()"
   ]
  },
  {
   "cell_type": "markdown",
   "id": "344bb408",
   "metadata": {},
   "source": [
    "### Exercise 2 - Write a Python class which has two methods get_String and print_String. get_String accept a string from the user and print_String print the string in upper case"
   ]
  },
  {
   "cell_type": "code",
   "execution_count": null,
   "id": "aafbcd4e",
   "metadata": {},
   "outputs": [],
   "source": [
    "class Backwards():\n",
    "    def __init__(self, sentence):\n",
    "        self.sentence = \"\"\n",
    "    \n",
    "    def sing_it(self):\n",
    "        song = input(\"type some lyrics thug!! \")\n",
    "        self.sentence = song[::-1]\n",
    "        print(self.sentence.upper())\n",
    "singer = Backwards(\"\")\n",
    "singer.sing_it()"
   ]
  }
 ],
 "metadata": {
  "kernelspec": {
   "display_name": "Python 3",
   "language": "python",
   "name": "python3"
  },
  "language_info": {
   "codemirror_mode": {
    "name": "ipython",
    "version": 3
   },
   "file_extension": ".py",
   "mimetype": "text/x-python",
   "name": "python",
   "nbconvert_exporter": "python",
   "pygments_lexer": "ipython3",
   "version": "3.8.8"
  }
 },
 "nbformat": 4,
 "nbformat_minor": 5
}
